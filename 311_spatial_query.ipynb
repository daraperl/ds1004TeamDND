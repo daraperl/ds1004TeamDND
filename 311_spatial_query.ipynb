{
 "cells": [
  {
   "cell_type": "code",
   "execution_count": 1,
   "metadata": {
    "collapsed": false
   },
   "outputs": [
    {
     "name": "stdout",
     "output_type": "stream",
     "text": [
      "Point in polygon test\n",
      "Point 1 is within the polygon\n",
      "Point 2 is outside the polygon\n",
      "R-tree test\n",
      "Query result:\n",
      "[1, 3]\n"
     ]
    }
   ],
   "source": [
    "import numpy as np\n",
    "import pandas as pd\n",
    "import re\n",
    "from spatial import *\n",
    "import time"
   ]
  },
  {
   "cell_type": "code",
   "execution_count": 2,
   "metadata": {
    "collapsed": false,
    "scrolled": true
   },
   "outputs": [
    {
     "name": "stderr",
     "output_type": "stream",
     "text": [
      "/Users/Daynan/anaconda2/lib/python2.7/site-packages/IPython/core/interactiveshell.py:2723: DtypeWarning: Columns (8,17,18,21,38,40,41,42,43,44,45,46,47,48,49) have mixed types. Specify dtype option on import or set low_memory=False.\n",
      "  interactivity=interactivity, compiler=compiler, result=result)\n"
     ]
    }
   ],
   "source": [
    "# 311 data\n",
    "df = pd.read_csv('311_join/311_Service_Requests_2014.csv')"
   ]
  },
  {
   "cell_type": "code",
   "execution_count": 3,
   "metadata": {
    "collapsed": true
   },
   "outputs": [],
   "source": [
    "# spatial data\n",
    "dfs = pd.read_csv('data_for_analysis_map/all_nyc_sa_all_features.csv')"
   ]
  },
  {
   "cell_type": "code",
   "execution_count": 4,
   "metadata": {
    "collapsed": false
   },
   "outputs": [],
   "source": [
    "dfc = df.copy()\n",
    "dfc = dfc[['Unique Key','Created Date','Agency','Complaint Type','Descriptor',\n",
    "           'Location Type', 'Incident Zip', 'Incident Address','Latitude','Longitude','Location']]"
   ]
  },
  {
   "cell_type": "code",
   "execution_count": 5,
   "metadata": {
    "collapsed": false
   },
   "outputs": [],
   "source": [
    "# label calls about heat\n",
    "def heat(data):\n",
    "    if (data=='Air Conditioning Problem') | (data=='HEAT') | (data=='HEAT RELATED') | (data=='AIR-CONDITIONER'):\n",
    "        return True\n",
    "    else:\n",
    "        return False\n",
    "\n",
    "dfc['heat'] = dfc.Descriptor.map(lambda x: heat(x))"
   ]
  },
  {
   "cell_type": "code",
   "execution_count": 6,
   "metadata": {
    "collapsed": false
   },
   "outputs": [],
   "source": [
    "# reformat point\n",
    "def ptconvert(data):\n",
    "    try:\n",
    "        data = data.strip('()').split(', ')\n",
    "        return Point(float(data[0]),float(data[1]))\n",
    "    except:\n",
    "        return Point(0,0)\n",
    "\n",
    "dfc['point'] = dfc.Location.map(lambda x: ptconvert(str(x)))"
   ]
  },
  {
   "cell_type": "code",
   "execution_count": 7,
   "metadata": {
    "collapsed": false
   },
   "outputs": [],
   "source": [
    "def polyconvert(data):\n",
    "    try:\n",
    "        allpoints = data.strip('MULTIPOLYGON ()')\n",
    "        allpoints = allpoints.strip('()').split(', ')\n",
    "        new_pts = []\n",
    "        for i in allpoints:\n",
    "            i = i.split(' ')\n",
    "            x = float(i[1])\n",
    "            y = float(i[0])\n",
    "            pt = x,y\n",
    "            pt = Point(x,y)\n",
    "            new_pts.append(pt)\n",
    "        return Polygon(new_pts)\n",
    "    except:\n",
    "        return 'nan'"
   ]
  },
  {
   "cell_type": "code",
   "execution_count": 8,
   "metadata": {
    "collapsed": false
   },
   "outputs": [],
   "source": [
    "dfs['poly'] = dfs.geometry.map(lambda x: polyconvert(x))"
   ]
  },
  {
   "cell_type": "code",
   "execution_count": 9,
   "metadata": {
    "collapsed": false
   },
   "outputs": [
    {
     "name": "stdout",
     "output_type": "stream",
     "text": [
      "--- 127.338639975 seconds ---\n"
     ]
    }
   ],
   "source": [
    "# create rtree index on all calls\n",
    "start_time = time.time()\n",
    "all_call_rtree = index.Index()\n",
    "for i,p in enumerate(dfc['point']):\n",
    "    x = p.x\n",
    "    y = p.y\n",
    "    all_call_rtree.insert(i,(x,y,x,y))\n",
    "print(\"--- %s seconds ---\" % (time.time() - start_time))"
   ]
  },
  {
   "cell_type": "code",
   "execution_count": 10,
   "metadata": {
    "collapsed": false
   },
   "outputs": [
    {
     "name": "stdout",
     "output_type": "stream",
     "text": [
      "--- 6.44579982758 seconds ---\n"
     ]
    }
   ],
   "source": [
    "# create rtree index on heat calls\n",
    "start_time = time.time()\n",
    "heat_rtree = index.Index()\n",
    "dfh = dfc[dfc.heat].reset_index()\n",
    "for i,p in enumerate(dfh['point']):\n",
    "    x = p.x\n",
    "    y = p.y\n",
    "    heat_rtree.insert(i,(x,y,x,y))\n",
    "print(\"--- %s seconds ---\" % (time.time() - start_time))"
   ]
  },
  {
   "cell_type": "code",
   "execution_count": 11,
   "metadata": {
    "collapsed": false
   },
   "outputs": [],
   "source": [
    "# rtree polygon query\n",
    "def rquery(rindx, poly,heat=False):\n",
    "    try:\n",
    "        # obtain the polygon bound\n",
    "        x_min = float('inf')\n",
    "        x_max = -float('inf')\n",
    "        y_min = float('inf')\n",
    "        y_max = -float('inf')\n",
    "        for i in poly.points:\n",
    "            if i.x < x_min:\n",
    "                x_min = i.x\n",
    "            if i.x > x_max:\n",
    "                x_max = i.x\n",
    "            if i.y < y_min:\n",
    "                y_min = i.y\n",
    "            if i.y > y_max:\n",
    "                y_max = i.y\n",
    "\n",
    "        # query on the bound\n",
    "        bounded = list(rindx.intersection((x_min,y_min,x_max,y_max)))\n",
    "        \n",
    "        if heat:\n",
    "            df = dfh\n",
    "        else:\n",
    "            df = dfc\n",
    "        \n",
    "        count = 0\n",
    "        for i in bounded:\n",
    "            pt = df.ix[i][-1]\n",
    "            if poly.contains(pt):\n",
    "                count += 1\n",
    "        \n",
    "#        return len(bounded)\n",
    "        return count\n",
    "    except AttributeError:\n",
    "        return 0"
   ]
  },
  {
   "cell_type": "code",
   "execution_count": 12,
   "metadata": {
    "collapsed": false
   },
   "outputs": [
    {
     "name": "stdout",
     "output_type": "stream",
     "text": [
      "--- 288.992995977 seconds ---\n"
     ]
    }
   ],
   "source": [
    "start_time = time.time()\n",
    "dfs['all_calls'] = dfs.poly.map(lambda x: rquery(all_call_rtree,x))\n",
    "print(\"--- %s seconds ---\" % (time.time() - start_time))"
   ]
  },
  {
   "cell_type": "code",
   "execution_count": 13,
   "metadata": {
    "collapsed": false
   },
   "outputs": [
    {
     "name": "stdout",
     "output_type": "stream",
     "text": [
      "--- 16.9029350281 seconds ---\n"
     ]
    }
   ],
   "source": [
    "start_time = time.time()\n",
    "dfs['heat_calls'] = dfs.poly.map(lambda x: rquery(heat_rtree,x,heat=True))\n",
    "print(\"--- %s seconds ---\" % (time.time() - start_time))"
   ]
  },
  {
   "cell_type": "code",
   "execution_count": 14,
   "metadata": {
    "collapsed": false
   },
   "outputs": [],
   "source": [
    "dfs['heat_ratio'] = dfs.heat_calls*1.0/dfs.all_calls"
   ]
  },
  {
   "cell_type": "code",
   "execution_count": 15,
   "metadata": {
    "collapsed": false
   },
   "outputs": [],
   "source": [
    "dfs.to_csv('all_nyc_all_features_311.csv',index=False)"
   ]
  },
  {
   "cell_type": "code",
   "execution_count": 27,
   "metadata": {
    "collapsed": false
   },
   "outputs": [],
   "source": [
    "# dfs_for_map = dfs[['FIPS','geometry']]\n",
    "# df_for_map = df[['Unique Key','Descriptor','Location']]"
   ]
  },
  {
   "cell_type": "code",
   "execution_count": 29,
   "metadata": {
    "collapsed": false
   },
   "outputs": [],
   "source": [
    "# dfs_for_map.to_csv('polys.csv',index=False)\n",
    "# df_for_map.to_csv('calls.csv',index=False)"
   ]
  },
  {
   "cell_type": "code",
   "execution_count": null,
   "metadata": {
    "collapsed": true
   },
   "outputs": [],
   "source": []
  }
 ],
 "metadata": {
  "kernelspec": {
   "display_name": "Python 2",
   "language": "python",
   "name": "python2"
  },
  "language_info": {
   "codemirror_mode": {
    "name": "ipython",
    "version": 2
   },
   "file_extension": ".py",
   "mimetype": "text/x-python",
   "name": "python",
   "nbconvert_exporter": "python",
   "pygments_lexer": "ipython2",
   "version": "2.7.11"
  }
 },
 "nbformat": 4,
 "nbformat_minor": 0
}
