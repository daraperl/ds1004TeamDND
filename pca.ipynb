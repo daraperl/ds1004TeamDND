{
 "cells": [
  {
   "cell_type": "code",
   "execution_count": 35,
   "metadata": {
    "collapsed": true
   },
   "outputs": [],
   "source": [
    "from __future__ import print_function, division\n",
    "import numpy as np\n",
    "import pandas as pd\n",
    "import pylab as pl\n",
    "from scipy import stats\n",
    "import seaborn as sns; sns.set()\n",
    "from sklearn.decomposition import PCA\n",
    "from sklearn.decomposition import KernelPCA\n",
    "from sklearn.decomposition import SparsePCA\n",
    "from sklearn.preprocessing import MinMaxScaler\n",
    "%matplotlib inline"
   ]
  },
  {
   "cell_type": "code",
   "execution_count": 66,
   "metadata": {
    "collapsed": true
   },
   "outputs": [],
   "source": [
    "# whole dataset\n",
    "# df = pd.read_csv('JoinACSFCCPluto.csv')\n",
    "\n",
    "dfm = pd.read_csv('merged_w_moran.csv')"
   ]
  },
  {
   "cell_type": "code",
   "execution_count": 105,
   "metadata": {
    "collapsed": false
   },
   "outputs": [
    {
     "data": {
      "text/plain": [
       "array(['AFFGEOID', 'ALAND', 'AWATER', 'Area_Tot_1', 'Area_Total',\n",
       "       'Area__Land', 'Average_Ho', 'BldgArea', 'Buildin_10', 'Building_1',\n",
       "       'Building_2', 'Building_3', 'Building_4', 'Building_5',\n",
       "       'Building_6', 'Building_7', 'Building_8', 'Building_9',\n",
       "       'Building_T', 'COUNTYFP', 'Civilia_10', 'Civilia_11', 'Civilia_12',\n",
       "       'Civilian_1', 'Civilian_2', 'Civilian_3', 'Civilian_4',\n",
       "       'Civilian_5', 'Civilian_6', 'Civilian_7', 'Civilian_8',\n",
       "       'Civilian_9', 'Civilian_P', 'ComArea', 'Employe_10', 'Employe_11',\n",
       "       'Employe_12', 'Employe_13', 'Employed_1', 'Employed_2',\n",
       "       'Employed_3', 'Employed_4', 'Employed_5', 'Employed_6',\n",
       "       'Employed_7', 'Employed_8', 'Employed_9', 'Employed_c', 'FIPS',\n",
       "       'FIPS_1', 'FactryArea', 'Families1', 'Families_', 'Families_1',\n",
       "       'Families_2', 'Families_3', 'Families_4', 'Families_5',\n",
       "       'Families_6', 'Families_7', 'Families_8', 'Families_9', 'GEOID',\n",
       "       'GarageArea', 'Gini_Index', 'Househo_10', 'Househo_11',\n",
       "       'Househo_12', 'Househo_13', 'Househo_14', 'Househo_15',\n",
       "       'Househo_16', 'Househol_1', 'Househol_2', 'Househol_3',\n",
       "       'Househol_4', 'Househol_5', 'Househol_6', 'Househol_7',\n",
       "       'Househol_8', 'Househol_9', 'Households', 'LSAD', 'Median_Gro',\n",
       "       'NAME', 'NumBldgs', 'NumFloors', 'OfficeArea', 'Per_capita',\n",
       "       'Populat_10', 'Populat_11', 'Populat_12', 'Populat_13',\n",
       "       'Populat_14', 'Populat_15', 'Populat_16', 'Populat_17',\n",
       "       'Populat_18', 'Populat_19', 'Populat_20', 'Populat_21',\n",
       "       'Populat_22', 'Populat_23', 'Populat_24', 'Populat_25',\n",
       "       'Populat_26', 'Populat_27', 'Populat_28', 'Populati_1',\n",
       "       'Populati_2', 'Populati_3', 'Populati_4', 'Populati_5',\n",
       "       'Populati_6', 'Populati_7', 'Populati_8', 'Populati_9',\n",
       "       'Population', 'ResArea', 'RetailArea', 'STATEFP', 'StrgeArea',\n",
       "       'TRACTCE', 'Total_', 'Total_P_10', 'Total_P_11', 'Total_P_12',\n",
       "       'Total_P_13', 'Total_P_14', 'Total_P_15', 'Total_P_16',\n",
       "       'Total_P_17', 'Total_P_18', 'Total_P_19', 'Total_P_20',\n",
       "       'Total_Po_1', 'Total_Po_2', 'Total_Po_3', 'Total_Po_4',\n",
       "       'Total_Po_5', 'Total_Po_6', 'Total_Po_7', 'Total_Po_8',\n",
       "       'Total_Po_9', 'Total_Popu', 'Total__No', 'Total__W_1', 'Total__W_2',\n",
       "       'Total__Wit', 'UnitsRes', 'UnitsTotal', 'Vacant_H_1', 'Vacant_H_2',\n",
       "       'Vacant_H_3', 'Vacant_Hou', 'Workers_16', 'Workers_17',\n",
       "       'Workers_18', 'Workers_19', 'Workers_20', 'Workers_21',\n",
       "       'Workers_22', 'Workers_23', 'Workers_24', 'Workers_25',\n",
       "       'Workers_26', 'Workers_27', 'Workers_28', 'Workers_29',\n",
       "       'Workers_30', 'Workers_31', 'Workers_32', 'Workers_33',\n",
       "       'Workers_34', 'Workers_35', 'avg_down', 'avg_up', 'bscore_nor',\n",
       "       'bscore_raw', 'geometry_x', 'max_down', 'max_up', 'num_platfo',\n",
       "       'num_provid', 'top_plat_r', 'top_plat_t', 'w_percent', 'quadrant'], dtype=object)"
      ]
     },
     "execution_count": 105,
     "metadata": {},
     "output_type": "execute_result"
    }
   ],
   "source": [
    "#NOTE some column names truncated\n",
    "\n",
    "dfm.columns.values\n",
    "\n",
    "# dfm.dtypes[dfm.dtypes=='object']"
   ]
  },
  {
   "cell_type": "code",
   "execution_count": 107,
   "metadata": {
    "collapsed": false
   },
   "outputs": [
    {
     "data": {
      "text/plain": [
       "'quadrant'"
      ]
     },
     "execution_count": 107,
     "metadata": {},
     "output_type": "execute_result"
    }
   ],
   "source": [
    "dfm.columns[-1]"
   ]
  },
  {
   "cell_type": "markdown",
   "metadata": {},
   "source": [
    "#### Preprocessing"
   ]
  },
  {
   "cell_type": "code",
   "execution_count": 87,
   "metadata": {
    "collapsed": false
   },
   "outputs": [],
   "source": [
    "# filter to inputs \n",
    "remove_list = ['avg_down','avg_up','max_down','max_up','num_provid','top_plat_r','Total_',\n",
    "               'bscore_raw','bscore_nor','geometry_x','quadrant','LSAD','AFFGEOID']\n",
    "\n",
    "remove_listq = ['avg_down','avg_up','max_down','max_up','num_provid','top_plat_r','Total_',\n",
    "               'bscore_raw','bscore_nor','geometry_x','quadrant','LSAD','AFFGEOID']\n",
    "\n",
    "data = dfm.drop(remove_listq,1)\n",
    "data = pd.get_dummies(data=data, columns=['top_plat_t'])\n",
    "\n",
    "#convert to array\n",
    "data_ar = np.asarray(data)"
   ]
  },
  {
   "cell_type": "code",
   "execution_count": 89,
   "metadata": {
    "collapsed": false
   },
   "outputs": [
    {
     "data": {
      "text/plain": [
       "True"
      ]
     },
     "execution_count": 89,
     "metadata": {},
     "output_type": "execute_result"
    }
   ],
   "source": [
    "# check for and replace NaNs/infinities, etc\n",
    "# np.any(np.isnan(data_ar))\n",
    "# np.all(np.isfinite(data_ar))\n",
    "\n",
    "# convert to real numbers\n",
    "# data_ar = np.nan_to_num(data_ar)"
   ]
  },
  {
   "cell_type": "code",
   "execution_count": 90,
   "metadata": {
    "collapsed": false
   },
   "outputs": [],
   "source": [
    "# whiten data - standard normalize - PCA uses zero-centered data\n",
    "data_norm = (data_ar - data_ar.mean())*1.0/data_ar.std()"
   ]
  },
  {
   "cell_type": "code",
   "execution_count": 140,
   "metadata": {
    "collapsed": false
   },
   "outputs": [
    {
     "data": {
      "image/png": "[encoded data removed]",
      "text/plain": [
       "<matplotlib.figure.Figure at 0x125886950>"
      ]
     },
     "metadata": {},
     "output_type": "display_data"
    }
   ],
   "source": [
    "fig = pl.figure(figsize=(15,10))\n",
    "\n",
    "spca = SparsePCA(n_components=2,alpha=8,verbose=False,method='lars')\n",
    "X_proj = spca.fit_transform(data_norm)\n",
    "pl.subplot(211)\n",
    "pl.scatter(X_proj[:, 0], X_proj[:, 1], c=dfm['bscore_raw'], edgecolor='none', alpha=0.5,\n",
    "            cmap=pl.cm.cool)\n",
    "pl.title('spca')\n",
    "pl.xlim([0.03125,0.03135])\n",
    "\n",
    "\n",
    "pl.subplot(212)\n",
    "pca = PCA(n_components=2)\n",
    "X_proj = pca.fit_transform(data_norm)\n",
    "pl.scatter(X_proj[:, 0], X_proj[:, 1], c=dfm['bscore_raw'], edgecolor='none', alpha=0.5,\n",
    "            cmap=pl.cm.cool)\n",
    "pl.title('pca');"
   ]
  },
  {
   "cell_type": "code",
   "execution_count": 137,
   "metadata": {
    "collapsed": false
   },
   "outputs": [
    {
     "name": "stdout",
     "output_type": "stream",
     "text": [
      "\n",
      "Leading principal component:\n",
      " [   0.            0.            0.            0.            0.            0.\n",
      "    0.            0.            0.            0.            0.            0.\n",
      "    0.            0.            0.            0.            0.            0.\n",
      "    0.            0.            0.            0.            0.            0.\n",
      "    0.            0.            0.            0.            0.            0.\n",
      "    0.            0.            0.            0.            0.            0.\n",
      "    0.            0.            0.            0.            0.            0.\n",
      "    0.            0.            0.            0.            0.\n",
      "  236.04576109  236.04576108    0.            0.            0.            0.\n",
      "    0.            0.            0.            0.            0.            0.\n",
      "    0.            0.          236.04576109    0.            0.            0.\n",
      "    0.            0.            0.            0.            0.            0.\n",
      "    0.            0.            0.            0.            0.            0.\n",
      "    0.            0.            0.            0.            0.            0.\n",
      "    0.            0.            0.            0.            0.            0.\n",
      "    0.            0.            0.            0.            0.            0.\n",
      "    0.            0.            0.            0.            0.            0.\n",
      "    0.            0.            0.            0.            0.            0.\n",
      "    0.            0.            0.            0.            0.            0.\n",
      "    0.            0.            0.            0.            0.            0.\n",
      "    0.            0.            0.            0.            0.            0.\n",
      "    0.            0.            0.            0.            0.            0.\n",
      "    0.            0.            0.            0.            0.            0.\n",
      "    0.            0.            0.            0.            0.            0.\n",
      "    0.            0.            0.            0.            0.            0.\n",
      "    0.            0.            0.            0.            0.            0.\n",
      "    0.            0.            0.            0.            0.            0.\n",
      "    0.            0.            0.            0.            0.            0.\n",
      "    0.            0.            0.            0.            0.            0.\n",
      "    0.            0.            0.            0.            0.        ]\n",
      "Features in leading principal component:\n",
      " Index([u'FIPS', u'FIPS_1', u'GEOID'], dtype='object')\n"
     ]
    }
   ],
   "source": [
    "print(\"\\nLeading principal component:\\n\", spca.components_[0,:])\n",
    "print(\"Features in leading principal component:\\n\",data.columns[spca.components_[0,:]!=0.0])"
   ]
  },
  {
   "cell_type": "code",
   "execution_count": 139,
   "metadata": {
    "collapsed": false
   },
   "outputs": [
    {
     "data": {
      "text/html": [
       "<div>\n",
       "<table border=\"1\" class=\"dataframe\">\n",
       "  <thead>\n",
       "    <tr style=\"text-align: right;\">\n",
       "      <th></th>\n",
       "      <th>ALAND</th>\n",
       "      <th>AWATER</th>\n",
       "      <th>Area_Tot_1</th>\n",
       "      <th>Area_Total</th>\n",
       "      <th>Area__Land</th>\n",
       "      <th>Average_Ho</th>\n",
       "      <th>BldgArea</th>\n",
       "      <th>Buildin_10</th>\n",
       "      <th>Building_1</th>\n",
       "      <th>Building_2</th>\n",
       "      <th>...</th>\n",
       "      <th>Workers_32</th>\n",
       "      <th>Workers_33</th>\n",
       "      <th>Workers_34</th>\n",
       "      <th>Workers_35</th>\n",
       "      <th>num_platfo</th>\n",
       "      <th>w_percent</th>\n",
       "      <th>top_plat_t_Cable</th>\n",
       "      <th>top_plat_t_Copper</th>\n",
       "      <th>top_plat_t_Fiber</th>\n",
       "      <th>top_plat_t_Fixed_wireless</th>\n",
       "    </tr>\n",
       "  </thead>\n",
       "  <tbody>\n",
       "    <tr>\n",
       "      <th>0</th>\n",
       "      <td>104645.0</td>\n",
       "      <td>0.0</td>\n",
       "      <td>0.0</td>\n",
       "      <td>0.040356</td>\n",
       "      <td>0.040356</td>\n",
       "      <td>2.58</td>\n",
       "      <td>2638633.0</td>\n",
       "      <td>0.0</td>\n",
       "      <td>3.0</td>\n",
       "      <td>0.0</td>\n",
       "      <td>...</td>\n",
       "      <td>303.0</td>\n",
       "      <td>311.0</td>\n",
       "      <td>63.0</td>\n",
       "      <td>67.0</td>\n",
       "      <td>3.0</td>\n",
       "      <td>72.651168</td>\n",
       "      <td>0.0</td>\n",
       "      <td>0.0</td>\n",
       "      <td>1.0</td>\n",
       "      <td>0.0</td>\n",
       "    </tr>\n",
       "    <tr>\n",
       "      <th>1</th>\n",
       "      <td>82641.0</td>\n",
       "      <td>0.0</td>\n",
       "      <td>0.0</td>\n",
       "      <td>0.032101</td>\n",
       "      <td>0.032101</td>\n",
       "      <td>2.92</td>\n",
       "      <td>1448392.0</td>\n",
       "      <td>8.0</td>\n",
       "      <td>1.0</td>\n",
       "      <td>8.0</td>\n",
       "      <td>...</td>\n",
       "      <td>249.0</td>\n",
       "      <td>254.0</td>\n",
       "      <td>79.0</td>\n",
       "      <td>25.0</td>\n",
       "      <td>3.0</td>\n",
       "      <td>77.373096</td>\n",
       "      <td>1.0</td>\n",
       "      <td>0.0</td>\n",
       "      <td>0.0</td>\n",
       "      <td>0.0</td>\n",
       "    </tr>\n",
       "    <tr>\n",
       "      <th>2</th>\n",
       "      <td>184733.0</td>\n",
       "      <td>0.0</td>\n",
       "      <td>0.0</td>\n",
       "      <td>0.071326</td>\n",
       "      <td>0.071326</td>\n",
       "      <td>3.19</td>\n",
       "      <td>2565407.0</td>\n",
       "      <td>12.0</td>\n",
       "      <td>1.0</td>\n",
       "      <td>21.0</td>\n",
       "      <td>...</td>\n",
       "      <td>471.0</td>\n",
       "      <td>351.0</td>\n",
       "      <td>115.0</td>\n",
       "      <td>11.0</td>\n",
       "      <td>3.0</td>\n",
       "      <td>77.879046</td>\n",
       "      <td>0.0</td>\n",
       "      <td>0.0</td>\n",
       "      <td>1.0</td>\n",
       "      <td>0.0</td>\n",
       "    </tr>\n",
       "    <tr>\n",
       "      <th>3</th>\n",
       "      <td>150832.0</td>\n",
       "      <td>0.0</td>\n",
       "      <td>0.0</td>\n",
       "      <td>0.057306</td>\n",
       "      <td>0.057306</td>\n",
       "      <td>3.25</td>\n",
       "      <td>1465566.0</td>\n",
       "      <td>0.0</td>\n",
       "      <td>0.0</td>\n",
       "      <td>3.0</td>\n",
       "      <td>...</td>\n",
       "      <td>409.0</td>\n",
       "      <td>587.0</td>\n",
       "      <td>36.0</td>\n",
       "      <td>84.0</td>\n",
       "      <td>3.0</td>\n",
       "      <td>90.691417</td>\n",
       "      <td>0.0</td>\n",
       "      <td>1.0</td>\n",
       "      <td>0.0</td>\n",
       "      <td>0.0</td>\n",
       "    </tr>\n",
       "    <tr>\n",
       "      <th>4</th>\n",
       "      <td>212430.0</td>\n",
       "      <td>0.0</td>\n",
       "      <td>0.0</td>\n",
       "      <td>0.082020</td>\n",
       "      <td>0.082020</td>\n",
       "      <td>3.32</td>\n",
       "      <td>3185383.0</td>\n",
       "      <td>13.0</td>\n",
       "      <td>6.0</td>\n",
       "      <td>47.0</td>\n",
       "      <td>...</td>\n",
       "      <td>601.0</td>\n",
       "      <td>549.0</td>\n",
       "      <td>231.0</td>\n",
       "      <td>248.0</td>\n",
       "      <td>3.0</td>\n",
       "      <td>68.893028</td>\n",
       "      <td>0.0</td>\n",
       "      <td>1.0</td>\n",
       "      <td>0.0</td>\n",
       "      <td>0.0</td>\n",
       "    </tr>\n",
       "  </tbody>\n",
       "</table>\n",
       "<p>5 rows × 178 columns</p>\n",
       "</div>"
      ],
      "text/plain": [
       "      ALAND  AWATER  Area_Tot_1  Area_Total  Area__Land  Average_Ho  \\\n",
       "0  104645.0     0.0         0.0    0.040356    0.040356        2.58   \n",
       "1   82641.0     0.0         0.0    0.032101    0.032101        2.92   \n",
       "2  184733.0     0.0         0.0    0.071326    0.071326        3.19   \n",
       "3  150832.0     0.0         0.0    0.057306    0.057306        3.25   \n",
       "4  212430.0     0.0         0.0    0.082020    0.082020        3.32   \n",
       "\n",
       "    BldgArea  Buildin_10  Building_1  Building_2            ...              \\\n",
       "0  2638633.0         0.0         3.0         0.0            ...               \n",
       "1  1448392.0         8.0         1.0         8.0            ...               \n",
       "2  2565407.0        12.0         1.0        21.0            ...               \n",
       "3  1465566.0         0.0         0.0         3.0            ...               \n",
       "4  3185383.0        13.0         6.0        47.0            ...               \n",
       "\n",
       "   Workers_32  Workers_33  Workers_34  Workers_35  num_platfo  w_percent  \\\n",
       "0       303.0       311.0        63.0        67.0         3.0  72.651168   \n",
       "1       249.0       254.0        79.0        25.0         3.0  77.373096   \n",
       "2       471.0       351.0       115.0        11.0         3.0  77.879046   \n",
       "3       409.0       587.0        36.0        84.0         3.0  90.691417   \n",
       "4       601.0       549.0       231.0       248.0         3.0  68.893028   \n",
       "\n",
       "   top_plat_t_Cable  top_plat_t_Copper  top_plat_t_Fiber  \\\n",
       "0               0.0                0.0               1.0   \n",
       "1               1.0                0.0               0.0   \n",
       "2               0.0                0.0               1.0   \n",
       "3               0.0                1.0               0.0   \n",
       "4               0.0                1.0               0.0   \n",
       "\n",
       "   top_plat_t_Fixed_wireless  \n",
       "0                        0.0  \n",
       "1                        0.0  \n",
       "2                        0.0  \n",
       "3                        0.0  \n",
       "4                        0.0  \n",
       "\n",
       "[5 rows x 178 columns]"
      ]
     },
     "execution_count": 139,
     "metadata": {},
     "output_type": "execute_result"
    }
   ],
   "source": []
  },
  {
   "cell_type": "code",
   "execution_count": null,
   "metadata": {
    "collapsed": true
   },
   "outputs": [],
   "source": []
  }
 ],
 "metadata": {
  "kernelspec": {
   "display_name": "Python 2",
   "language": "python",
   "name": "python2"
  },
  "language_info": {
   "codemirror_mode": {
    "name": "ipython",
    "version": 2
   },
   "file_extension": ".py",
   "mimetype": "text/x-python",
   "name": "python",
   "nbconvert_exporter": "python",
   "pygments_lexer": "ipython2",
   "version": "2.7.11"
  }
 },
 "nbformat": 4,
 "nbformat_minor": 0
}
