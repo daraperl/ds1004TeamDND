{
 "cells": [
  {
   "cell_type": "code",
   "execution_count": 11,
   "metadata": {
    "collapsed": true
   },
   "outputs": [],
   "source": [
    "import pandas as pd\n",
    "import numpy as np\n",
    "import glob\n"
   ]
  },
  {
   "cell_type": "code",
   "execution_count": 12,
   "metadata": {
    "collapsed": false
   },
   "outputs": [],
   "source": [
    "# Provides properly formated tracts to 6 digits\n",
    "\n",
    "def convertTracts(ct):\n",
    "    ct = str(ct)\n",
    "    if ct == 'nan':\n",
    "        ct = \"\"\n",
    "    elif \".\" in ct:\n",
    "        temp = ct.strip().split('.')\n",
    "        if len(temp[0]) == 4:\n",
    "            ct = temp[0] + temp[1]\n",
    "        elif len(temp[0]) == 3:\n",
    "            ct = '0' + temp[0] + temp[1]\n",
    "        elif len(temp[0]) == 2:\n",
    "            ct = '00' + temp[0] + temp[1]\n",
    "        elif len(temp[0]) == 1:\n",
    "            ct = '000' + temp[0] + temp[1]\n",
    "    elif (len(ct) == 5) | (len(ct) == 6):\n",
    "        print ct + \" problem with CT function. review error\"\n",
    "    elif len(ct) == 4:\n",
    "        ct = ct + '00'\n",
    "    elif len(ct) == 3:\n",
    "        ct = '0' + ct + '00'\n",
    "    elif len(ct) == 2:\n",
    "        ct = '00' + ct + '00'\n",
    "    elif len(ct) == 1:\n",
    "        ct = '000' + ct + '00'\n",
    "    else:\n",
    "        ct = ''\n",
    "    return ct\n",
    "\n",
    "\n",
    "\n",
    "        \n",
    "        "
   ]
  },
  {
   "cell_type": "code",
   "execution_count": 13,
   "metadata": {
    "collapsed": false
   },
   "outputs": [
    {
     "data": {
      "text/plain": [
       "1788452"
      ]
     },
     "execution_count": 13,
     "metadata": {},
     "output_type": "execute_result"
    }
   ],
   "source": [
    "FCC = pd.read_csv('Final Project/Original/NY-Fixed-Jun2015-v2.csv')\n",
    "len(FCC)"
   ]
  },
  {
   "cell_type": "code",
   "execution_count": 14,
   "metadata": {
    "collapsed": false
   },
   "outputs": [],
   "source": [
    "def getTract(block_code):\n",
    "    tract = block_code[:11]\n",
    "    return tract\n",
    "\n",
    "FCC['BlockCode'] = FCC['BlockCode'].astype(str)\n",
    "FCC['GEOID'] = FCC['BlockCode'].apply(getTract)"
   ]
  },
  {
   "cell_type": "code",
   "execution_count": 15,
   "metadata": {
    "collapsed": false
   },
   "outputs": [],
   "source": [
    "# pd.merge(FCC.groupby('GEOID').sum().reset_index(), PLUTO_MASTER[PLUTO_MASTER['SIZE']].groupby('GEOID').sum().reset_index(), on='GEOID', how='inner')"
   ]
  },
  {
   "cell_type": "code",
   "execution_count": 16,
   "metadata": {
    "collapsed": false
   },
   "outputs": [],
   "source": [
    "#PLUTO_MASTER[PLUTO_MASTER['SIZE']].groupby('GEOID').sum().reset_index()"
   ]
  },
  {
   "cell_type": "code",
   "execution_count": 19,
   "metadata": {
    "collapsed": false
   },
   "outputs": [
    {
     "name": "stdout",
     "output_type": "stream",
     "text": [
      "43231 PLUTO MN\n",
      "277748 PLUTO BK"
     ]
    },
    {
     "name": "stderr",
     "output_type": "stream",
     "text": [
      "//anaconda/lib/python2.7/site-packages/IPython/core/interactiveshell.py:2871: DtypeWarning: Columns (6,7,8,10,27,50,52,53,77,79) have mixed types. Specify dtype option on import or set low_memory=False.\n",
      "  interactivity=interactivity, compiler=compiler, result=result)\n",
      "//anaconda/lib/python2.7/site-packages/IPython/core/interactiveshell.py:2871: DtypeWarning: Columns (6,7,10,11,50,52,53,77,79) have mixed types. Specify dtype option on import or set low_memory=False.\n",
      "  interactivity=interactivity, compiler=compiler, result=result)\n"
     ]
    },
    {
     "name": "stdout",
     "output_type": "stream",
     "text": [
      "\n",
      "324630 PLUTO QN\n",
      "89963 PLUTO BX\n",
      "123892 PLUTO SI\n"
     ]
    },
    {
     "name": "stderr",
     "output_type": "stream",
     "text": [
      "//anaconda/lib/python2.7/site-packages/IPython/core/interactiveshell.py:2871: DtypeWarning: Columns (4,6,7,8,10,11,50,52,53,77,79) have mixed types. Specify dtype option on import or set low_memory=False.\n",
      "  interactivity=interactivity, compiler=compiler, result=result)\n"
     ]
    }
   ],
   "source": [
    "PLUTO_MN = pd.read_csv('Final Project/Original/nyc_pluto_15v1/Mn.csv')\n",
    "print str(len(PLUTO_MN)) + \" PLUTO MN\"\n",
    "PLUTO_MN['STATE'] = \"36\"\n",
    "PLUTO_MN['COUNTY'] = \"061\"\n",
    "PLUTO_MN['CT2010'] = PLUTO_MN['CT2010'].astype(str)\n",
    "PLUTO_MN['CB2010'] = PLUTO_MN['CB2010'].astype(str)\n",
    "PLUTO_MN['TRACT'] = PLUTO_MN['CT2010'].apply(convertTracts)\n",
    "\n",
    "PLUTO_BK = pd.read_csv('Final Project/Original/nyc_pluto_15v1/BK.csv')\n",
    "print str(len(PLUTO_BK)) + \" PLUTO BK\"\n",
    "PLUTO_BK['STATE'] = \"36\"\n",
    "PLUTO_BK['COUNTY'] = \"047\"\n",
    "PLUTO_BK['CT2010'] = PLUTO_BK['CT2010'].astype(str)\n",
    "PLUTO_BK['CB2010'] = PLUTO_BK['CB2010'].astype(str)\n",
    "PLUTO_BK['TRACT'] = PLUTO_BK['CT2010'].apply(convertTracts)\n",
    "\n",
    "PLUTO_QN = pd.read_csv('Final Project/Original/nyc_pluto_15v1/QN.csv')\n",
    "print str(len(PLUTO_QN)) + \" PLUTO QN\"\n",
    "PLUTO_QN['STATE'] = \"36\"\n",
    "PLUTO_QN['COUNTY'] = \"081\"\n",
    "PLUTO_QN['CT2010'] = PLUTO_QN['CT2010'].astype(str)\n",
    "PLUTO_QN['CB2010'] = PLUTO_QN['CB2010'].astype(str)\n",
    "PLUTO_QN['TRACT'] = PLUTO_QN['CT2010'].apply(convertTracts)\n",
    "\n",
    "PLUTO_BX = pd.read_csv('Final Project/Original/nyc_pluto_15v1/BX.csv')\n",
    "print str(len(PLUTO_BX)) + \" PLUTO BX\"\n",
    "PLUTO_BX['STATE'] = \"36\"\n",
    "PLUTO_BX['COUNTY'] = \"005\"\n",
    "PLUTO_BX['CT2010'] = PLUTO_BX['CT2010'].astype(str)\n",
    "PLUTO_BX['CB2010'] = PLUTO_BX['CB2010'].astype(str)\n",
    "PLUTO_BX['TRACT'] = PLUTO_BX['CT2010'].apply(convertTracts)\n",
    "\n",
    "PLUTO_SI = pd.read_csv('Final Project/Original/nyc_pluto_15v1/SI.csv')\n",
    "print str(len(PLUTO_SI)) + \" PLUTO SI\"\n",
    "PLUTO_SI['STATE'] = \"36\"\n",
    "PLUTO_SI['COUNTY'] = \"085\"\n",
    "PLUTO_SI['CT2010'] = PLUTO_SI['CT2010'].astype(str)\n",
    "PLUTO_SI['CB2010'] = PLUTO_SI['CB2010'].astype(str)\n",
    "PLUTO_SI['TRACT'] = PLUTO_SI['CT2010'].apply(convertTracts)\n"
   ]
  },
  {
   "cell_type": "code",
   "execution_count": 20,
   "metadata": {
    "collapsed": false
   },
   "outputs": [],
   "source": [
    "PLUTO_MASTER = pd.DataFrame()\n",
    "PLUTO_MASTER = PLUTO_MASTER.append(PLUTO_SI)\n",
    "PLUTO_MASTER = PLUTO_MASTER.append(PLUTO_QN)\n",
    "PLUTO_MASTER = PLUTO_MASTER.append(PLUTO_BK)\n",
    "PLUTO_MASTER = PLUTO_MASTER.append(PLUTO_BX)\n",
    "PLUTO_MASTER = PLUTO_MASTER.append(PLUTO_MN)"
   ]
  },
  {
   "cell_type": "code",
   "execution_count": 47,
   "metadata": {
    "collapsed": true
   },
   "outputs": [],
   "source": [
    "PLUTO_MASTER['GEOID'] = PLUTO_MASTER['STATE'] + PLUTO_MASTER['COUNTY'] +PLUTO_MASTER['TRACT']\n",
    "PLUTO_MASTER['GEOID_BLOCK'] = PLUTO_MASTER['STATE'] + PLUTO_MASTER['COUNTY'] +PLUTO_MASTER['TRACT'] + PLUTO_MASTER['CB2010']"
   ]
  },
  {
   "cell_type": "code",
   "execution_count": 48,
   "metadata": {
    "collapsed": false
   },
   "outputs": [],
   "source": [
    "PLUTO_MASTER['SIZE'] = PLUTO_MASTER['GEOID'].apply(lambda x: len(str(x)))"
   ]
  },
  {
   "cell_type": "code",
   "execution_count": 1,
   "metadata": {
    "collapsed": false,
    "scrolled": true
   },
   "outputs": [],
   "source": [
    "# PLUTO_MASTER[PLUTO_MASTER['SIZE'] == 11].groupby('GEOID').sum()\n",
    "\n"
   ]
  },
  {
   "cell_type": "code",
   "execution_count": 2,
   "metadata": {
    "collapsed": false
   },
   "outputs": [
    {
     "ename": "NameError",
     "evalue": "name 'PLUTO_MASTER' is not defined",
     "output_type": "error",
     "traceback": [
      "\u001b[0;31m---------------------------------------------------------------------------\u001b[0m",
      "\u001b[0;31mNameError\u001b[0m                                 Traceback (most recent call last)",
      "\u001b[0;32m<ipython-input-2-3838e14c93c1>\u001b[0m in \u001b[0;36m<module>\u001b[0;34m()\u001b[0m\n\u001b[0;32m----> 1\u001b[0;31m PLUTO_MASTER[['CB2010', 'ZipCode', 'BldgArea', 'ComArea', 'ResArea',\n\u001b[0m\u001b[1;32m      2\u001b[0m               \u001b[0;34m'OfficeArea'\u001b[0m\u001b[0;34m,\u001b[0m \u001b[0;34m'RetailArea'\u001b[0m\u001b[0;34m,\u001b[0m\u001b[0;34m'GarageArea'\u001b[0m\u001b[0;34m,\u001b[0m \u001b[0;34m'StrgeArea'\u001b[0m\u001b[0;34m,\u001b[0m\u001b[0;34m\u001b[0m\u001b[0m\n\u001b[1;32m      3\u001b[0m               \u001b[0;34m'FactryArea'\u001b[0m\u001b[0;34m,\u001b[0m \u001b[0;34m'NumBldgs'\u001b[0m\u001b[0;34m,\u001b[0m \u001b[0;34m'NumFloors'\u001b[0m\u001b[0;34m,\u001b[0m \u001b[0;34m'UnitsRes'\u001b[0m\u001b[0;34m,\u001b[0m\u001b[0;34m\u001b[0m\u001b[0m\n\u001b[1;32m      4\u001b[0m               \u001b[0;34m'UnitsTotal'\u001b[0m\u001b[0;34m,\u001b[0m \u001b[0;34m'STATE'\u001b[0m\u001b[0;34m,\u001b[0m \u001b[0;34m'COUNTY'\u001b[0m\u001b[0;34m,\u001b[0m \u001b[0;34m'TRACT'\u001b[0m\u001b[0;34m,\u001b[0m \u001b[0;34m'GEOID'\u001b[0m\u001b[0;34m,\u001b[0m\u001b[0;34m\u001b[0m\u001b[0m\n\u001b[1;32m      5\u001b[0m               'GEOID_BLOCK', 'SIZE']].head(5)\n",
      "\u001b[0;31mNameError\u001b[0m: name 'PLUTO_MASTER' is not defined"
     ]
    }
   ],
   "source": [
    "PLUTO_MASTER[['CB2010', 'ZipCode', 'BldgArea', 'ComArea', 'ResArea',\n",
    "              'OfficeArea', 'RetailArea','GarageArea', 'StrgeArea', \n",
    "              'FactryArea', 'NumBldgs', 'NumFloors', 'UnitsRes', \n",
    "              'UnitsTotal', 'STATE', 'COUNTY', 'TRACT', 'GEOID', \n",
    "              'GEOID_BLOCK', 'SIZE']].head(5)\n",
    "#PLUTO_MN['TRACT'] = PLUTO_MN['CT2010'].apply(convertTracts)"
   ]
  },
  {
   "cell_type": "code",
   "execution_count": 61,
   "metadata": {
    "collapsed": false
   },
   "outputs": [],
   "source": [
    "# not used for analysis...too many blocks missing\n",
    "\n",
    "def convertBlocks(block):\n",
    "    try:\n",
    "        block = str(int(block))\n",
    "        if len(block) == 3:\n",
    "            block = '0' + block\n",
    "        elif len(block) == 2:\n",
    "            block = '00' + block\n",
    "        elif len(block) == 1:\n",
    "            block = '000' + block\n",
    "            \n",
    "    except:\n",
    "        block = \"\"\n",
    "    return block\n"
   ]
  },
  {
   "cell_type": "code",
   "execution_count": 62,
   "metadata": {
    "collapsed": false
   },
   "outputs": [],
   "source": [
    "PLUTO_MN['BLOCK'] = PLUTO_MN['Block'].apply(convertBlocks)"
   ]
  },
  {
   "cell_type": "code",
   "execution_count": 65,
   "metadata": {
    "collapsed": false
   },
   "outputs": [],
   "source": [
    "PLUTO_MN['BlockCode'] = PLUTO_MN['STATE'] + PLUTO_MN['COUNTY'] +PLUTO_MN['TRACT'] + PLUTO_MN['BLOCK']"
   ]
  },
  {
   "cell_type": "code",
   "execution_count": 79,
   "metadata": {
    "collapsed": false
   },
   "outputs": [],
   "source": [
    "PLUTO_MN['SIZE'] = PLUTO_MN['CB2010'].apply(lambda x: len(str(x)))"
   ]
  },
  {
   "cell_type": "code",
   "execution_count": null,
   "metadata": {
    "collapsed": true
   },
   "outputs": [],
   "source": []
  }
 ],
 "metadata": {
  "kernelspec": {
   "display_name": "Python 2",
   "language": "python",
   "name": "python2"
  },
  "language_info": {
   "codemirror_mode": {
    "name": "ipython",
    "version": 2
   },
   "file_extension": ".py",
   "mimetype": "text/x-python",
   "name": "python",
   "nbconvert_exporter": "python",
   "pygments_lexer": "ipython2",
   "version": "2.7.11"
  }
 },
 "nbformat": 4,
 "nbformat_minor": 0
}
