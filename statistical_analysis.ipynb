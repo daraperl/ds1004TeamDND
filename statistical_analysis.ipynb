{
 "cells": [
  {
   "cell_type": "code",
   "execution_count": 74,
   "metadata": {
    "collapsed": false
   },
   "outputs": [
    {
     "name": "stdout",
     "output_type": "stream",
     "text": [
      "Populating the interactive namespace from numpy and matplotlib\n"
     ]
    }
   ],
   "source": [
    "import pandas as pd\n",
    "import seaborn\n",
    "import pylab as pl\n",
    "%pylab inline"
   ]
  },
  {
   "cell_type": "code",
   "execution_count": 2,
   "metadata": {
    "collapsed": true
   },
   "outputs": [],
   "source": [
    "all_sa = pd.read_csv('all_nyc_sa_for_map.csv')"
   ]
  },
  {
   "cell_type": "code",
   "execution_count": 64,
   "metadata": {
    "collapsed": true
   },
   "outputs": [],
   "source": [
    "all_sa['Total Buildings'] = (all_sa['Building Type_Commercial & Office Buildings'] +\n",
    "                           all_sa['Building Type_Industrial & Manufacturing Buildings'] +\n",
    "                           all_sa['Building Type_Mixed Residential & Commercial Buildings'] +\n",
    "                           all_sa['Building Type_Multi-Family Elevator Buildings'] +\n",
    "                           all_sa['Building Type_Multi-Family Walk-Up Buildings'] + \n",
    "                           all_sa['Building Type_One & Two Family Buildings'] + \n",
    "                           all_sa['Building Type_Open Space & Outdoor Recreation'] +\n",
    "                           all_sa['Building Type_Parking Facilities'] +\n",
    "                           all_sa['Building Type_Public Facilities & Institutions'] +\n",
    "                           all_sa['Building Type_Transportation & Utility'] + \n",
    "                           all_sa['Building Type_Vacant Land'])\n",
    "all_sa['Perc_Commercial'] = all_sa['Building Type_Commercial & Office Buildings'] * 1.0 / all_sa['Total Buildings']\n",
    "all_sa['Perc_Indust_Manuf'] = all_sa['Building Type_Industrial & Manufacturing Buildings'] * 1.0 / all_sa['Total Buildings']\n",
    "all_sa['Perc_Res_Commerc'] = all_sa['Building Type_Mixed Residential & Commercial Buildings'] * 1.0 / all_sa['Total Buildings']\n",
    "all_sa['Perc_Multi_Elev'] = all_sa['Building Type_Multi-Family Elevator Buildings'] * 1.0 / all_sa['Total Buildings']\n",
    "all_sa['Perc_Multi_Walkup'] = all_sa['Building Type_Multi-Family Walk-Up Buildings'] * 1.0 / all_sa['Total Buildings'] \n",
    "all_sa['Perc_One_Two'] = all_sa['Building Type_One & Two Family Buildings'] * 1.0 / all_sa['Total Buildings'] \n",
    "all_sa['Perc_Open_Space'] = all_sa['Building Type_Open Space & Outdoor Recreation'] * 1.0 / all_sa['Total Buildings']\n",
    "all_sa['Perc_Parking'] = all_sa['Building Type_Parking Facilities'] * 1.0 / all_sa['Total Buildings']\n",
    "all_sa['Perc_Public_Facilities'] = all_sa['Building Type_Public Facilities & Institutions'] * 1.0 / all_sa['Total Buildings']\n",
    "all_sa['Perc_Transport_Utility'] = all_sa['Building Type_Transportation & Utility'] * 1.0 / all_sa['Total Buildings'] \n",
    "all_sa['Perc_Vacant'] = all_sa['Building Type_Vacant Land'] * 1.0 / all_sa['Total Buildings']"
   ]
  },
  {
   "cell_type": "code",
   "execution_count": 65,
   "metadata": {
    "collapsed": false
   },
   "outputs": [],
   "source": [
    "def boro(fips):\n",
    "    if fips >= 36085000000:\n",
    "        boro = 'SI'\n",
    "    elif fips >= 36081000000:\n",
    "        boro = 'QN'\n",
    "    elif fips >= 36061000000:\n",
    "        boro = 'MN'\n",
    "    elif fips >= 36047000000:\n",
    "        boro = 'BK'\n",
    "    elif fips >= 36005000000:\n",
    "        boro = 'BX'\n",
    "    return boro"
   ]
  },
  {
   "cell_type": "code",
   "execution_count": 66,
   "metadata": {
    "collapsed": true
   },
   "outputs": [],
   "source": [
    "all_sa['boro'] = all_sa['FIPS'].apply(boro)"
   ]
  },
  {
   "cell_type": "code",
   "execution_count": 67,
   "metadata": {
    "collapsed": false
   },
   "outputs": [
    {
     "data": {
      "text/html": [
       "<div>\n",
       "<table border=\"1\" class=\"dataframe\">\n",
       "  <thead>\n",
       "    <tr style=\"text-align: right;\">\n",
       "      <th></th>\n",
       "      <th></th>\n",
       "      <th>FIPS</th>\n",
       "    </tr>\n",
       "    <tr>\n",
       "      <th>boro</th>\n",
       "      <th>quadrant</th>\n",
       "      <th></th>\n",
       "    </tr>\n",
       "  </thead>\n",
       "  <tbody>\n",
       "    <tr>\n",
       "      <th rowspan=\"4\" valign=\"top\">BK</th>\n",
       "      <th>1</th>\n",
       "      <td>231</td>\n",
       "    </tr>\n",
       "    <tr>\n",
       "      <th>2</th>\n",
       "      <td>1</td>\n",
       "    </tr>\n",
       "    <tr>\n",
       "      <th>3</th>\n",
       "      <td>201</td>\n",
       "    </tr>\n",
       "    <tr>\n",
       "      <th>4</th>\n",
       "      <td>1</td>\n",
       "    </tr>\n",
       "    <tr>\n",
       "      <th rowspan=\"4\" valign=\"top\">BX</th>\n",
       "      <th>1</th>\n",
       "      <td>45</td>\n",
       "    </tr>\n",
       "    <tr>\n",
       "      <th>2</th>\n",
       "      <td>4</td>\n",
       "    </tr>\n",
       "    <tr>\n",
       "      <th>3</th>\n",
       "      <td>57</td>\n",
       "    </tr>\n",
       "    <tr>\n",
       "      <th>4</th>\n",
       "      <td>9</td>\n",
       "    </tr>\n",
       "    <tr>\n",
       "      <th rowspan=\"3\" valign=\"top\">MN</th>\n",
       "      <th>1</th>\n",
       "      <td>58</td>\n",
       "    </tr>\n",
       "    <tr>\n",
       "      <th>3</th>\n",
       "      <td>100</td>\n",
       "    </tr>\n",
       "    <tr>\n",
       "      <th>4</th>\n",
       "      <td>1</td>\n",
       "    </tr>\n",
       "    <tr>\n",
       "      <th rowspan=\"4\" valign=\"top\">QN</th>\n",
       "      <th>1</th>\n",
       "      <td>65</td>\n",
       "    </tr>\n",
       "    <tr>\n",
       "      <th>2</th>\n",
       "      <td>11</td>\n",
       "    </tr>\n",
       "    <tr>\n",
       "      <th>3</th>\n",
       "      <td>80</td>\n",
       "    </tr>\n",
       "    <tr>\n",
       "      <th>4</th>\n",
       "      <td>1</td>\n",
       "    </tr>\n",
       "    <tr>\n",
       "      <th rowspan=\"3\" valign=\"top\">SI</th>\n",
       "      <th>1</th>\n",
       "      <td>4</td>\n",
       "    </tr>\n",
       "    <tr>\n",
       "      <th>2</th>\n",
       "      <td>1</td>\n",
       "    </tr>\n",
       "    <tr>\n",
       "      <th>3</th>\n",
       "      <td>3</td>\n",
       "    </tr>\n",
       "  </tbody>\n",
       "</table>\n",
       "</div>"
      ],
      "text/plain": [
       "               FIPS\n",
       "boro quadrant      \n",
       "BK   1          231\n",
       "     2            1\n",
       "     3          201\n",
       "     4            1\n",
       "BX   1           45\n",
       "     2            4\n",
       "     3           57\n",
       "     4            9\n",
       "MN   1           58\n",
       "     3          100\n",
       "     4            1\n",
       "QN   1           65\n",
       "     2           11\n",
       "     3           80\n",
       "     4            1\n",
       "SI   1            4\n",
       "     2            1\n",
       "     3            3"
      ]
     },
     "execution_count": 67,
     "metadata": {},
     "output_type": "execute_result"
    }
   ],
   "source": [
    "# Used for Local Moran Chart\n",
    "\n",
    "all_sa.groupby(['boro', 'quadrant']).count()[['FIPS']]"
   ]
  },
  {
   "cell_type": "code",
   "execution_count": 68,
   "metadata": {
    "collapsed": false
   },
   "outputs": [
    {
     "name": "stdout",
     "output_type": "stream",
     "text": [
      "FIPS One-way ANOVA P = 1.96309968518e-06\n",
      "quadrant One-way ANOVA P = 0.0\n",
      "avg_down One-way ANOVA P = 5.84411290881e-216\n",
      "avg_up One-way ANOVA P = 7.2607846405e-240\n",
      "max_down One-way ANOVA P = 5.16816232485e-234\n",
      "max_up One-way ANOVA P = 4.1231587768e-272\n",
      "num_providers One-way ANOVA P = 0.000244539630083\n",
      "num_platforms One-way ANOVA P = 1.86001225879e-116\n",
      "bscore_raw One-way ANOVA P = 2.51084835837e-239\n",
      "bscore_norm One-way ANOVA P = 2.51084831751e-239\n",
      "ComArea One-way ANOVA P = 0.0499715282612\n",
      "GarageArea One-way ANOVA P = 0.00292198765\n",
      "StrgeArea One-way ANOVA P = 0.0016905283118\n",
      "FactryArea One-way ANOVA P = 0.00539458102368\n",
      "NumFloors One-way ANOVA P = 0.000580934486869\n",
      "Building Type_Industrial & Manufacturing Buildings One-way ANOVA P = 1.0370893999e-05\n",
      "Building Type_Mixed Residential & Commercial Buildings One-way ANOVA P = 1.42138978701e-10\n",
      "Building Type_Multi-Family Elevator Buildings One-way ANOVA P = 5.09857365238e-06\n",
      "Building Type_Multi-Family Walk-Up Buildings One-way ANOVA P = 6.88137082959e-15\n",
      "Population Density (per sq. mile) One-way ANOVA P = 0.00169707782191\n",
      "Total Population: One-way ANOVA P = 0.0159638144698\n",
      "Households: Less than $10_000 One-way ANOVA P = 0.000595307008012\n",
      "Households: $10_000 to $14_999 One-way ANOVA P = 0.00292566263176\n",
      "Households: $15_000 to $19_999 One-way ANOVA P = 0.00603051922509\n",
      "Households: $20_000 to $24_999 One-way ANOVA P = 0.0247614929301\n",
      "Households: $30_000 to $34_999 One-way ANOVA P = 0.0050719725733\n",
      "Households: $35_000 to $39_999 One-way ANOVA P = 1.37788796037e-05\n",
      "Households: $40_000 to $44_999 One-way ANOVA P = 0.0191952271277\n",
      "Households: $45_000 to $49_999 One-way ANOVA P = 0.0039011562095\n",
      "Households: $50_000 to $59_999 One-way ANOVA P = 0.0226431357628\n",
      "Households: $60_000 to $74_999 One-way ANOVA P = 0.0255046252725\n",
      "Total Buildings One-way ANOVA P = 0.00906453154874\n",
      "Perc_Commercial One-way ANOVA P = 0.00568409712812\n",
      "Perc_Indust_Manuf One-way ANOVA P = 4.27348685316e-06\n",
      "Perc_Res_Commerc One-way ANOVA P = 0.000850338240237\n",
      "Perc_Multi_Elev One-way ANOVA P = 6.34555043519e-06\n",
      "Perc_Multi_Walkup One-way ANOVA P = 0.000347425070332\n",
      "37\n"
     ]
    }
   ],
   "source": [
    "# Used for investigation of all quadrants to identify variation\n",
    "# Significance at alpha = 0.05\n",
    "\n",
    "from scipy import stats\n",
    "count = 0\n",
    "for i in all_sa.columns:\n",
    "    try:\n",
    "        f_val, p_val = stats.f_oneway(all_sa[all_sa['quadrant'] == 1][i],all_sa[all_sa['quadrant'] == 2][i], all_sa[all_sa['quadrant'] == 3][i],all_sa[all_sa['quadrant'] == 4][i],)\n",
    "        if p_val < .05:\n",
    "            print i, \"One-way ANOVA P =\",   p_val  \n",
    "            count += 1\n",
    "    except:\n",
    "        continue\n",
    "print count"
   ]
  },
  {
   "cell_type": "code",
   "execution_count": 69,
   "metadata": {
    "collapsed": false
   },
   "outputs": [
    {
     "name": "stdout",
     "output_type": "stream",
     "text": [
      "quadrant One-way ANOVA P = 0.0\n",
      "avg_down One-way ANOVA P = 4.94613989862e-09\n",
      "max_down One-way ANOVA P = 0.000692375253403\n",
      "max_up One-way ANOVA P = 0.0168531211901\n",
      "top_plat_ratio One-way ANOVA P = 0.0348809125543\n",
      "bscore_raw One-way ANOVA P = 1.92675576987e-08\n",
      "bscore_norm One-way ANOVA P = 1.92675576578e-08\n",
      "RetailArea One-way ANOVA P = 0.0188857923143\n",
      "GarageArea One-way ANOVA P = 0.0031477774071\n",
      "Households: $15_000 to $19_999 One-way ANOVA P = 0.0127817314327\n",
      "Households: $35_000 to $39_999 One-way ANOVA P = 0.00179788749345\n",
      "Households: $45_000 to $49_999 One-way ANOVA P = 0.0400166551462\n",
      "Perc_Indust_Manuf One-way ANOVA P = 0.00475457997036\n",
      "Perc_Res_Commerc One-way ANOVA P = 0.0263408980127\n",
      "14\n"
     ]
    }
   ],
   "source": [
    "# investigation of low-low and low-surrounded by low\n",
    "count = 0\n",
    "for i in all_sa.columns:\n",
    "    try:\n",
    "        f_val, p_val = stats.f_oneway(all_sa[all_sa['quadrant'] == 2][i], all_sa[all_sa['quadrant'] == 3][i])\n",
    "        if p_val < .05:\n",
    "            print i, \"One-way ANOVA P =\",   p_val  \n",
    "            count += 1\n",
    "    except:\n",
    "        continue\n",
    "print count"
   ]
  },
  {
   "cell_type": "code",
   "execution_count": 70,
   "metadata": {
    "collapsed": false
   },
   "outputs": [
    {
     "name": "stdout",
     "output_type": "stream",
     "text": [
      "FIPS One-way ANOVA P = 5.7343801583e-07\n",
      "quadrant One-way ANOVA P = 0.0\n",
      "avg_down One-way ANOVA P = 5.3226454373e-10\n",
      "avg_up One-way ANOVA P = 2.15346233691e-09\n",
      "max_down One-way ANOVA P = 1.68171499294e-10\n",
      "max_up One-way ANOVA P = 4.53072243389e-10\n",
      "num_platforms One-way ANOVA P = 0.000363505922978\n",
      "bscore_raw One-way ANOVA P = 1.61783910024e-10\n",
      "bscore_norm One-way ANOVA P = 1.61783909892e-10\n",
      "Households: Less than $10_000 One-way ANOVA P = 0.0053256093199\n",
      "Households: $10_000 to $14_999 One-way ANOVA P = 0.00207825276142\n",
      "Households: $125_000 to $149_999 One-way ANOVA P = 0.0253135720902\n",
      "Households: $150_000 to $199_999 One-way ANOVA P = 0.0403263738778\n",
      "Perc_Parking One-way ANOVA P = 0.0108266307426\n",
      "14\n"
     ]
    }
   ],
   "source": [
    "# investigation of high-high and high-surrounded by low\n",
    "count = 0\n",
    "for i in all_sa.columns:\n",
    "    try:\n",
    "        f_val, p_val = stats.f_oneway(all_sa[all_sa['quadrant'] == 4][i], all_sa[all_sa['quadrant'] == 1][i])\n",
    "        if p_val < .05:\n",
    "            print i, \"One-way ANOVA P =\",   p_val  \n",
    "            count += 1\n",
    "    except:\n",
    "        continue\n",
    "print count"
   ]
  },
  {
   "cell_type": "code",
   "execution_count": 71,
   "metadata": {
    "collapsed": false
   },
   "outputs": [
    {
     "name": "stdout",
     "output_type": "stream",
     "text": [
      "FIPS One-way ANOVA P = 0.0327193159932\n",
      "quadrant One-way ANOVA P = 0.0\n",
      "avg_down One-way ANOVA P = 1.45242761207e-11\n",
      "avg_up One-way ANOVA P = 4.87243745178e-18\n",
      "max_down One-way ANOVA P = 6.21446485073e-16\n",
      "max_up One-way ANOVA P = 1.67932205847e-21\n",
      "num_platforms One-way ANOVA P = 1.05221424494e-11\n",
      "bscore_raw One-way ANOVA P = 9.28291337889e-15\n",
      "bscore_norm One-way ANOVA P = 9.2829133768e-15\n",
      "RetailArea One-way ANOVA P = 0.0136915918413\n",
      "GarageArea One-way ANOVA P = 0.000684289609538\n",
      "Building Type_Mixed Residential & Commercial Buildings One-way ANOVA P = 0.0368892886652\n",
      "Total Population: One-way ANOVA P = 0.0330867697456\n",
      "Households: $15_000 to $19_999 One-way ANOVA P = 0.00173974363484\n",
      "Households: $25_000 to $29_999 One-way ANOVA P = 0.0129625899202\n",
      "Households: $30_000 to $34_999 One-way ANOVA P = 0.00951483927863\n",
      "Households: $35_000 to $39_999 One-way ANOVA P = 4.39129016816e-05\n",
      "Households: $40_000 to $44_999 One-way ANOVA P = 0.0289838521408\n",
      "Households: $45_000 to $49_999 One-way ANOVA P = 0.00390125118344\n",
      "Households: $50_000 to $59_999 One-way ANOVA P = 0.016821358094\n",
      "Households: $60_000 to $74_999 One-way ANOVA P = 0.00694879773837\n",
      "Perc_Commercial One-way ANOVA P = 0.0412887360684\n",
      "Perc_Res_Commerc One-way ANOVA P = 0.0144016933289\n",
      "23\n"
     ]
    }
   ],
   "source": [
    "# investigation of high-high and low-surrounded by high\n",
    "count = 0\n",
    "for i in all_sa.columns:\n",
    "    try:\n",
    "        f_val, p_val = stats.f_oneway(all_sa[all_sa['quadrant'] == 2][i], all_sa[all_sa['quadrant'] == 1][i])\n",
    "        if p_val < .05:\n",
    "            print i, \"One-way ANOVA P =\",   p_val  \n",
    "            count += 1\n",
    "    except:\n",
    "        continue\n",
    "print count"
   ]
  },
  {
   "cell_type": "code",
   "execution_count": 94,
   "metadata": {
    "collapsed": false
   },
   "outputs": [
    {
     "name": "stdout",
     "output_type": "stream",
     "text": [
      "MN FIPS (-0.75356562347678313, 2.0919584111737802e-30)\n",
      "MN quadrant (-0.8669523287103319, 2.4150999040030031e-49)\n",
      "QN quadrant (-0.91928467572459271, 1.1871646046131571e-64)\n",
      "BK quadrant (-0.97300996885952451, 3.0452923429383933e-277)\n",
      "MN avg_down (0.98728055204976939, 2.6478399382911341e-127)\n",
      "QN avg_down (0.99440836926977083, 3.008167599900108e-153)\n",
      "BK avg_down (0.99715257816221126, 0.0)\n",
      "BX avg_down (0.98036654344153007, 1.5971344493526157e-81)\n",
      "MN avg_up (0.99436010688075138, 6.5323346894795284e-155)\n",
      "QN avg_up (0.99112117141661782, 9.7170122527045807e-138)\n",
      "BK avg_up (0.99315647229086856, 0.0)\n",
      "BX avg_up (0.85634751955254151, 3.2200930595725219e-34)\n",
      "MN max_down (0.91513456657756553, 7.9304954195528054e-64)\n",
      "QN max_down (0.94953018424388469, 6.0644865656006671e-80)\n",
      "BK max_down (0.9746129217008932, 6.5390774922401007e-283)\n",
      "MN max_up (0.9131193702893714, 4.6177783051511785e-63)\n",
      "QN max_up (0.94932612630322177, 8.2256981333852898e-80)\n",
      "BK max_up (0.97506490412012681, 1.4178262795294423e-284)\n",
      "QN num_platforms (0.74573067923741965, 3.9339542781262103e-29)\n",
      "BK num_platforms (0.78662319386593016, 1.6691070540252296e-92)\n",
      "MN bscore_raw (1.0, 0.0)\n",
      "QN bscore_raw (1.0, 0.0)\n",
      "BK bscore_raw (0.99999999999999978, 0.0)\n",
      "BX bscore_raw (1.0, 0.0)\n",
      "MN bscore_norm (1.0, 0.0)\n",
      "QN bscore_norm (1.0, 0.0)\n",
      "BK bscore_norm (1.0, 0.0)\n",
      "BX bscore_norm (1.0, 0.0)\n",
      "BX Perc_One_Two (0.72870925110260898, 2.685209208514284e-20)\n"
     ]
    }
   ],
   "source": [
    "import scipy\n",
    "boros = ['SI', 'MN', 'QN', 'BK', 'BX']\n",
    "for i in all_sa.columns:\n",
    "    for j in boros[1:]:\n",
    "        try:\n",
    "            if scipy.stats.pearsonr(list(all_sa[all_sa['boro']==j]['bscore_norm'].values), list(all_sa[all_sa['boro']==j][i].values))[0] > .7:\n",
    "                print j, i, scipy.stats.pearsonr(list(all_sa[all_sa['boro']==j]['bscore_norm'].values), list(all_sa[all_sa['boro']==j][i].values))#[0]\n",
    "            if scipy.stats.pearsonr(list(all_sa[all_sa['boro']==j]['bscore_norm'].values), list(all_sa[all_sa['boro']==j][i].values))[0] < -0.7:\n",
    "                print j, i, scipy.stats.pearsonr(list(all_sa[all_sa['boro']==j]['bscore_norm'].values), list(all_sa[all_sa['boro']==j][i].values))#[0]\n",
    "        except:\n",
    "            continue"
   ]
  },
  {
   "cell_type": "code",
   "execution_count": 79,
   "metadata": {
    "collapsed": false
   },
   "outputs": [
    {
     "name": "stdout",
     "output_type": "stream",
     "text": [
      "quadrant (-0.83405503431476702, 3.3176918316881345e-227)\n",
      "avg_down (0.99496626864923321, 0.0)\n",
      "avg_up (0.98057061225020592, 0.0)\n",
      "max_down (0.95997451003907974, 0.0)\n",
      "max_up (0.95728167654760665, 0.0)\n",
      "num_platforms (0.7468905982384153, 1.6055591426001061e-156)\n",
      "bscore_raw (1.0, 0.0)\n",
      "bscore_norm (1.0, 0.0)\n"
     ]
    }
   ],
   "source": [
    "# import scipy\n",
    "# boros = ['SI', 'MN', 'QN', 'BK', 'BX']\n",
    "for i in all_sa.columns:\n",
    "    try:\n",
    "        if scipy.stats.pearsonr(list(all_sa['bscore_norm'].values), list(all_sa[i].values))[0] > .3:\n",
    "            print i, scipy.stats.pearsonr(list(all_sa['bscore_norm'].values), list(all_sa[i].values))#[0]\n",
    "        if scipy.stats.pearsonr(list(all_sa['bscore_norm'].values), list(all_sa[i].values))[0] < -0.3:\n",
    "            print i, scipy.stats.pearsonr(list(all_sa['bscore_norm'].values), list(all_sa[i].values))#[0]\n",
    "    except:\n",
    "        continue"
   ]
  },
  {
   "cell_type": "code",
   "execution_count": 92,
   "metadata": {
    "collapsed": false
   },
   "outputs": [
    {
     "data": {
      "text/plain": [
       "<matplotlib.collections.PathCollection at 0x11192cb90>"
      ]
     },
     "execution_count": 92,
     "metadata": {},
     "output_type": "execute_result"
    },
    {
     "data": {
      "image/png": "[encoded data removed]",
      "text/plain": [
       "<matplotlib.figure.Figure at 0x1106c2210>"
      ]
     },
     "metadata": {},
     "output_type": "display_data"
    }
   ],
   "source": [
    "fig = pl.figure(figsize=(15,10))\n",
    "# colors_ = ['r','b','k','g']\n",
    "\n",
    "\n",
    "pl.subplot(111)\n",
    "pl.scatter(all_sa['num_platforms'], all_sa['bscore_norm'])\n"
   ]
  },
  {
   "cell_type": "code",
   "execution_count": 135,
   "metadata": {
    "collapsed": false
   },
   "outputs": [
    {
     "name": "stdout",
     "output_type": "stream",
     "text": [
      "(0.72870925110260898, 2.685209208514284e-20)\n"
     ]
    },
    {
     "data": {
      "image/png": "[encoded data removed]",
      "text/plain": [
       "<matplotlib.figure.Figure at 0x105e999d0>"
      ]
     },
     "metadata": {},
     "output_type": "display_data"
    }
   ],
   "source": [
    "fig = pl.figure(figsize=(10,6))\n",
    "\n",
    "\n",
    "# colors_ = ['r','b','k','g']\n",
    "#colors = pd.tools.plotting._get_standard_colors(len(groups), color_type='random')\n",
    "\n",
    "pl.subplot(111)\n",
    "pl.scatter(all_sa[(all_sa['boro']=='BX') & (all_sa['quadrant']==1) ]['Perc_One_Two'], all_sa[(all_sa['boro']=='BX') & (all_sa['quadrant']==1) ]['bscore_norm'], c='r', label='Q1')\n",
    "pl.scatter(all_sa[(all_sa['boro']=='BX') & (all_sa['quadrant']==2) ]['Perc_One_Two'], all_sa[(all_sa['boro']=='BX') & (all_sa['quadrant']==2) ]['bscore_norm'], c='k', label='Q2')\n",
    "pl.scatter(all_sa[(all_sa['boro']=='BX') & (all_sa['quadrant']==3) ]['Perc_One_Two'], all_sa[(all_sa['boro']=='BX') & (all_sa['quadrant']==3) ]['bscore_norm'], c='b', label='Q3')\n",
    "pl.scatter(all_sa[(all_sa['boro']=='BX') & (all_sa['quadrant']==4) ]['Perc_One_Two'], all_sa[(all_sa['boro']=='BX') & (all_sa['quadrant']==4) ]['bscore_norm'], c='g', label='Q4')\n",
    "#pl.plot([-0.1, -0.1*0.72870925110260898], [1.1, 1.1*0.72870925110260898])\n",
    "pl.legend()\n",
    "pl.ylabel('Broadband Score Normalized', fontsize=18)\n",
    "pl.xlabel('One & Two Family Buildings', fontsize=16)\n",
    "pl.title('Figure 1\\nBroadband Score as a Function of 1 and 2 Family Buildings (Bronx)', fontsize=16)\n",
    "print scipy.stats.pearsonr(list(all_sa[all_sa['boro']=='BX']['bscore_norm'].values), list(all_sa[all_sa['boro']=='BX']['Perc_One_Two'].values))#[0]"
   ]
  },
  {
   "cell_type": "code",
   "execution_count": 140,
   "metadata": {
    "collapsed": false
   },
   "outputs": [
    {
     "name": "stdout",
     "output_type": "stream",
     "text": [
      "(-0.17535594017623804, 1.8461538657908767e-07)\n",
      "(-0.17535594017623804, 1.8461538657908767e-07)\n"
     ]
    },
    {
     "data": {
      "image/png": "[encoded data removed]",
      "text/plain": [
       "<matplotlib.figure.Figure at 0x105db3310>"
      ]
     },
     "metadata": {},
     "output_type": "display_data"
    }
   ],
   "source": [
    "fig = pl.figure(figsize=(10,6))\n",
    "\n",
    "# colors_ = ['r','b','k','g']\n",
    "#colors = pd.tools.plotting._get_standard_colors(len(groups), color_type='random')\n",
    "\n",
    "pl.subplot(111)\n",
    "pl.scatter(all_sa[(all_sa['quadrant']==1) ]['Perc_One_Two'], all_sa[(all_sa['quadrant']==1) ]['bscore_norm'], c='r', label='Q1')\n",
    "pl.scatter(all_sa[(all_sa['quadrant']==2) ]['Perc_One_Two'], all_sa[(all_sa['quadrant']==2) ]['bscore_norm'], c='k', label='Q2')\n",
    "pl.scatter(all_sa[(all_sa['quadrant']==3) ]['Perc_One_Two'], all_sa[(all_sa['quadrant']==3) ]['bscore_norm'], c='b', label='Q3')\n",
    "pl.scatter(all_sa[(all_sa['quadrant']==4) ]['Perc_One_Two'], all_sa[(all_sa['quadrant']==4) ]['bscore_norm'], c='g', label='Q4')\n",
    "pl.legend()\n",
    "pl.ylabel('Broadband Score Normalized', fontsize=18)\n",
    "pl.xlabel('One & Two Family Buildings', fontsize=16)\n",
    "pl.title('Figure 2\\nBroadband Score as a Function of 1 and 2 Family Buildings (All Counties)', fontsize=16)\n",
    "print scipy.stats.pearsonr(list(all_sa['bscore_norm'].values), list(all_sa['Perc_One_Two'].values))#[0]\n",
    "print scipy.stats.pearsonr(list(all_sa['bscore_norm'].values), list(all_sa['Perc_One_Two'].values))"
   ]
  },
  {
   "cell_type": "code",
   "execution_count": 121,
   "metadata": {
    "collapsed": false
   },
   "outputs": [
    {
     "data": {
      "text/plain": [
       "['FIPS',\n",
       " 'quadrant',\n",
       " 'avg_down',\n",
       " 'avg_up',\n",
       " 'max_down',\n",
       " 'max_up',\n",
       " 'num_providers',\n",
       " 'num_platforms',\n",
       " 'top_plat_type',\n",
       " 'top_plat_ratio',\n",
       " 'bscore_raw',\n",
       " 'bscore_norm',\n",
       " 'BldgArea',\n",
       " 'ComArea',\n",
       " 'ResArea',\n",
       " 'OfficeArea',\n",
       " 'RetailArea',\n",
       " 'GarageArea',\n",
       " 'StrgeArea',\n",
       " 'FactryArea',\n",
       " 'NumBldgs',\n",
       " 'NumFloors',\n",
       " 'UnitsRes',\n",
       " 'UnitsTotal',\n",
       " 'Building Type_Commercial & Office Buildings',\n",
       " 'Building Type_Industrial & Manufacturing Buildings',\n",
       " 'Building Type_Mixed Residential & Commercial Buildings',\n",
       " 'Building Type_Multi-Family Elevator Buildings',\n",
       " 'Building Type_Multi-Family Walk-Up Buildings',\n",
       " 'Building Type_One & Two Family Buildings',\n",
       " 'Building Type_Open Space & Outdoor Recreation',\n",
       " 'Building Type_Parking Facilities',\n",
       " 'Building Type_Public Facilities & Institutions',\n",
       " 'Building Type_Transportation & Utility',\n",
       " 'Building Type_Vacant Land',\n",
       " 'Population Density (per sq. mile)',\n",
       " 'Area (Land)',\n",
       " 'Area Total:',\n",
       " 'Area Total: Area (Water)',\n",
       " 'Total Population:',\n",
       " 'Households:',\n",
       " 'Households: Less than $10_000',\n",
       " 'Households: $10_000 to $14_999',\n",
       " 'Households: $15_000 to $19_999',\n",
       " 'Households: $20_000 to $24_999',\n",
       " 'Households: $25_000 to $29_999',\n",
       " 'Households: $30_000 to $34_999',\n",
       " 'Households: $35_000 to $39_999',\n",
       " 'Households: $40_000 to $44_999',\n",
       " 'Households: $45_000 to $49_999',\n",
       " 'Households: $50_000 to $59_999',\n",
       " 'Households: $60_000 to $74_999',\n",
       " 'Households: $75_000 to $99_999',\n",
       " 'Households: $100_000 to $124_999',\n",
       " 'Households: $125_000 to $149_999',\n",
       " 'Households: $150_000 to $199_999',\n",
       " 'Households: $200_000 or More',\n",
       " 'Per capita income (In 2014 Inflation adjusted dollars)',\n",
       " 'Gini Index',\n",
       " 'boro',\n",
       " 'Total Buildings',\n",
       " 'Perc_Commercial',\n",
       " 'Perc_Indust_Manuf',\n",
       " 'Perc_Res_Commerc',\n",
       " 'Perc_Multi_Elev',\n",
       " 'Perc_Multi_Walkup',\n",
       " 'Perc_One_Two',\n",
       " 'Perc_Open_Space',\n",
       " 'Perc_Parking',\n",
       " 'Perc_Public_Facilities',\n",
       " 'Perc_Transport_Utility',\n",
       " 'Perc_Vacant']"
      ]
     },
     "execution_count": 121,
     "metadata": {},
     "output_type": "execute_result"
    }
   ],
   "source": [
    "list(all_sa.columns)"
   ]
  },
  {
   "cell_type": "code",
   "execution_count": null,
   "metadata": {
    "collapsed": true
   },
   "outputs": [],
   "source": []
  }
 ],
 "metadata": {
  "kernelspec": {
   "display_name": "Python 2",
   "language": "python",
   "name": "python2"
  },
  "language_info": {
   "codemirror_mode": {
    "name": "ipython",
    "version": 2
   },
   "file_extension": ".py",
   "mimetype": "text/x-python",
   "name": "python",
   "nbconvert_exporter": "python",
   "pygments_lexer": "ipython2",
   "version": "2.7.11"
  }
 },
 "nbformat": 4,
 "nbformat_minor": 0
}
