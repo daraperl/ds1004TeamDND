{
 "cells": [
  {
   "cell_type": "code",
   "execution_count": 45,
   "metadata": {
    "collapsed": false
   },
   "outputs": [
    {
     "name": "stdout",
     "output_type": "stream",
     "text": [
      "Populating the interactive namespace from numpy and matplotlib\n"
     ]
    }
   ],
   "source": [
    "import numpy as np\n",
    "import pandas as pd\n",
    "import pylab as pl\n",
    "%pylab inline"
   ]
  },
  {
   "cell_type": "code",
   "execution_count": 46,
   "metadata": {
    "collapsed": true
   },
   "outputs": [],
   "source": [
    "df = pd.read_csv('fcc_nyc.csv')"
   ]
  },
  {
   "cell_type": "code",
   "execution_count": 47,
   "metadata": {
    "collapsed": false
   },
   "outputs": [],
   "source": [
    "df1 = df.drop(['Business','MaxCIRDown','MaxCIRUp','HoldingCompanyName','HocoNum',\n",
    "              'HocoFinal'],1).copy()"
   ]
  },
  {
   "cell_type": "code",
   "execution_count": 48,
   "metadata": {
    "collapsed": false
   },
   "outputs": [],
   "source": [
    "# remove satellite data as according to FCC, \n",
    "# satellite providers can simply check a single field and\n",
    "# they are automatically attributed as providers for every census block in a given state, \n",
    "# which conflates analysis of actual access\n",
    "df1 = df1[df1.TechCode != 60].copy()\n",
    "\n",
    "# convert techcode to categorical label\n",
    "platform = {0: 'Other', 10: 'Copper', 11:'Copper', 20: 'Copper', 30: 'Copper', \n",
    "            40: 'Cable', 41: 'Cable',42: 'Cable',50: 'Fiber', \n",
    "            60: 'Satellite', 70: 'Fixed_wireless'}\n",
    "\n",
    "df1['TechCode'] = df1.TechCode.map(lambda x: platform[x])"
   ]
  },
  {
   "cell_type": "code",
   "execution_count": 49,
   "metadata": {
    "collapsed": false
   },
   "outputs": [],
   "source": [
    "# new df with aggregated values\n",
    "\n",
    "df2 = pd.DataFrame(index=df1.FIPS.unique())\n",
    "df2['avg_down'] = df1.groupby('FIPS')['MaxAdDown'].mean()\n",
    "df2['avg_up'] = df1.groupby('FIPS')['MaxAdUp'].mean()\n",
    "df2[\"max_down\"] = df1.groupby('FIPS')['MaxAdDown'].max()\n",
    "df2[\"max_up\"] = df1.groupby('FIPS')['MaxAdUp'].max()\n",
    "df2['num_providers'] = df1.groupby('FIPS')['Provider_Id'].nunique()\n",
    "df2['num_platforms'] = df1.groupby('FIPS')['TechCode'].nunique()"
   ]
  },
  {
   "cell_type": "code",
   "execution_count": 50,
   "metadata": {
    "collapsed": true
   },
   "outputs": [],
   "source": [
    "# calculate top platform type and ratio for each census tract\n",
    "top_plat = df1.groupby('FIPS')['TechCode'].value_counts(normalize=True).groupby(level=0).nlargest(1)\n",
    "\n",
    "plat_type = []\n",
    "top_ratio = []\n",
    "for i in top_plat.index:\n",
    "    plat_type.append(i[2])\n",
    "    top_ratio.append(top_plat[i])\n",
    "    \n",
    "df2['top_plat_type'] = plat_type\n",
    "df2['top_plat_ratio'] = top_ratio"
   ]
  },
  {
   "cell_type": "code",
   "execution_count": 51,
   "metadata": {
    "collapsed": false
   },
   "outputs": [],
   "source": [
    "# formula for broadband score: full weight for avg down, .5 weight for avg up, .1 weight for maxdown,\n",
    "# which should be reflected in avg down, but this rewards tracts with high max.\n",
    "# Same for number of provider: this is captured by average statistic, \n",
    "# but provides additional reward for having more providers regardless of speed\n",
    "\n",
    "def bscore(data):\n",
    "    return data.avg_down + .5*data.avg_up + .5*data.num_providers + .1*data.max_down\n",
    "\n",
    "df2['bscore_raw'] = df2.apply(bscore, axis=1)\n",
    "df2['bscore_norm'] = (df2.bscore_raw - df2.bscore_raw.mean())*1.0/df2.bscore_raw.std()"
   ]
  },
  {
   "cell_type": "code",
   "execution_count": 52,
   "metadata": {
    "collapsed": false
   },
   "outputs": [],
   "source": [
    "df2.reset_index(level=0, inplace=True)\n",
    "df2=df2.rename(columns = {'index':'FIPS'})"
   ]
  },
  {
   "cell_type": "code",
   "execution_count": 55,
   "metadata": {
    "collapsed": false
   },
   "outputs": [],
   "source": [
    "df2.to_csv('broadband_features_by_tract.csv',index=False)"
   ]
  },
  {
   "cell_type": "code",
   "execution_count": null,
   "metadata": {
    "collapsed": true
   },
   "outputs": [],
   "source": []
  }
 ],
 "metadata": {
  "kernelspec": {
   "display_name": "Python 2",
   "language": "python",
   "name": "python2"
  },
  "language_info": {
   "codemirror_mode": {
    "name": "ipython",
    "version": 2
   },
   "file_extension": ".py",
   "mimetype": "text/x-python",
   "name": "python",
   "nbconvert_exporter": "python",
   "pygments_lexer": "ipython2",
   "version": "2.7.11"
  }
 },
 "nbformat": 4,
 "nbformat_minor": 0
}
